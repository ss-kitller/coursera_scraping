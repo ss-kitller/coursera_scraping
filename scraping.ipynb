{
 "cells": [
  {
   "metadata": {},
   "cell_type": "markdown",
   "source": "# I'm gonna try to scrape Coursera to get all data engineering certificates",
   "id": "bb30b5da5c1a90f1"
  },
  {
   "metadata": {},
   "cell_type": "markdown",
   "source": "#### Let's import the needed Libraries\n",
   "id": "4d478e335f5b25d1"
  },
  {
   "metadata": {
    "ExecuteTime": {
     "end_time": "2025-01-15T19:15:30.663593Z",
     "start_time": "2025-01-15T19:15:30.273483Z"
    }
   },
   "cell_type": "code",
   "source": [
    "from bs4 import BeautifulSoup\n",
    "import requests"
   ],
   "id": "3f7502896f1adffc",
   "outputs": [],
   "execution_count": 2
  },
  {
   "metadata": {},
   "cell_type": "markdown",
   "source": "###### We noticed that the certificates given are not complete unless we scroll down the page\n",
   "id": "4cd89d2d5d7eb385"
  },
  {
   "metadata": {},
   "cell_type": "markdown",
   "source": "###### Let's automize it using",
   "id": "57366899a5debe3f"
  },
  {
   "metadata": {
    "ExecuteTime": {
     "end_time": "2025-01-15T20:03:23.741363Z",
     "start_time": "2025-01-15T20:03:23.739161Z"
    }
   },
   "cell_type": "code",
   "source": [
    "# Necessary Importations\n",
    "import time\n",
    "from selenium import webdriver"
   ],
   "id": "dc470b9b34b5551",
   "outputs": [],
   "execution_count": 9
  },
  {
   "metadata": {},
   "cell_type": "markdown",
   "source": "#### Scrolling function:",
   "id": "f10843d69b52b8d2"
  },
  {
   "metadata": {
    "ExecuteTime": {
     "end_time": "2025-01-15T20:16:11.436062Z",
     "start_time": "2025-01-15T20:16:11.433246Z"
    }
   },
   "cell_type": "code",
   "source": [
    "def scrolling ():\n",
    "    driver = webdriver.Chrome()  # Replace with your WebDriver\n",
    "    driver.get(\"https://www.coursera.org/search?query=data%20engineering&aid=true\")\n",
    "    driver.execute_script(\"window.scrollTo(0, document.body.scrollHeight);\")\n",
    "\n",
    "\n"
   ],
   "id": "80ea9be1ccba0317",
   "outputs": [],
   "execution_count": 21
  },
  {
   "metadata": {},
   "cell_type": "markdown",
   "source": "###### Let's copy the link:",
   "id": "acdb36f368956b54"
  },
  {
   "metadata": {
    "ExecuteTime": {
     "end_time": "2025-01-15T20:07:57.656071Z",
     "start_time": "2025-01-15T20:07:50.251076Z"
    }
   },
   "cell_type": "code",
   "source": [
    "link = 'https://www.coursera.org/search?query=data%20engineering&aid=true'\n",
    "response = requests.get(link)\n",
    "soup = BeautifulSoup(response.text, 'lxml')\n",
    "scrolling()\n",
    "time.sleep(5) # We wait 5 seconds so the page loads up\n",
    "courses_list = soup.find('ul',class_=\"cds-9 css-5t8l4v cds-10\")\n",
    "courses = courses_list.find_all('li',class_=\"cds-9 css-0 cds-11 cds-grid-item cds-56 cds-64 cds-76 cds-90\")\n",
    "for course in courses:\n",
    "    course_name = course.find('h3', class_ =\"cds-CommonCard-title css-6ecy9b\").text\n",
    "    print(course_name)"
   ],
   "id": "23553d49f3fe8055",
   "outputs": [
    {
     "name": "stdout",
     "output_type": "stream",
     "text": [
      "choose a positive variable {times}\n",
      "IBM Data Engineering\n",
      "Data Engineering Foundations\n",
      "DeepLearning.AI Data Engineering\n",
      "Introduction to Data Engineering\n",
      "Data Engineering on AWS - Foundations\n",
      "Meta Database Engineer\n",
      "Data Engineering, Big Data, and Machine Learning on GCP\n",
      "Python, Bash and SQL Essentials for Data Engineering\n",
      "Google Data Analytics\n",
      "Introduction to Data Engineering\n",
      "Applied Python Data Engineering\n",
      "IBM Data Warehouse Engineer\n"
     ]
    }
   ],
   "execution_count": 18
  },
  {
   "metadata": {},
   "cell_type": "markdown",
   "source": "#### Now, let us save these courses in a file",
   "id": "540ee38b66100de8"
  },
  {
   "metadata": {
    "ExecuteTime": {
     "end_time": "2025-01-15T20:25:15.558321Z",
     "start_time": "2025-01-15T20:25:02.118080Z"
    }
   },
   "cell_type": "code",
   "source": [
    "link = 'https://www.coursera.org/search?query=data%20engineering&aid=true'\n",
    "response = requests.get(link)\n",
    "soup = BeautifulSoup(response.text, 'lxml')\n",
    "scrolling()\n",
    "time.sleep(5) # We wait 5 seconds so the page loads up\n",
    "courses_list = soup.find('ul',class_=\"cds-9 css-5t8l4v cds-10\")\n",
    "courses = courses_list.find_all('li',class_=\"cds-9 css-0 cds-11 cds-grid-item cds-56 cds-64 cds-76 cds-90\")\n",
    "List = []\n",
    "for course in courses:\n",
    "    course_name = course.find('h3', class_ =\"cds-CommonCard-title css-6ecy9b\").text\n",
    "    List.append(course_name)\n",
    "print(List)\n",
    "with open ('name_of_courses.txt', 'w') as f:\n",
    "    for i in List:\n",
    "        f.write(i)\n",
    "        f.write(\"\\n\")\n",
    "    f.close()\n",
    "print(\"writing complete\")"
   ],
   "id": "71edce8671782af1",
   "outputs": [
    {
     "ename": "AttributeError",
     "evalue": "ResultSet object has no attribute 'find_all'. You're probably treating a list of elements like a single element. Did you call find_all() when you meant to call find()?",
     "output_type": "error",
     "traceback": [
      "\u001B[1;31m---------------------------------------------------------------------------\u001B[0m",
      "\u001B[1;31mAttributeError\u001B[0m                            Traceback (most recent call last)",
      "Cell \u001B[1;32mIn[29], line 7\u001B[0m\n\u001B[0;32m      5\u001B[0m time\u001B[38;5;241m.\u001B[39msleep(\u001B[38;5;241m5\u001B[39m) \u001B[38;5;66;03m# We wait 5 seconds so the page loads up\u001B[39;00m\n\u001B[0;32m      6\u001B[0m courses_list \u001B[38;5;241m=\u001B[39m soup\u001B[38;5;241m.\u001B[39mfind_all(\u001B[38;5;124m'\u001B[39m\u001B[38;5;124mul\u001B[39m\u001B[38;5;124m'\u001B[39m,class_\u001B[38;5;241m=\u001B[39m\u001B[38;5;124m\"\u001B[39m\u001B[38;5;124mcds-9 css-5t8l4v cds-10\u001B[39m\u001B[38;5;124m\"\u001B[39m)\n\u001B[1;32m----> 7\u001B[0m courses \u001B[38;5;241m=\u001B[39m \u001B[43mcourses_list\u001B[49m\u001B[38;5;241;43m.\u001B[39;49m\u001B[43mfind_all\u001B[49m(\u001B[38;5;124m'\u001B[39m\u001B[38;5;124mli\u001B[39m\u001B[38;5;124m'\u001B[39m,class_\u001B[38;5;241m=\u001B[39m\u001B[38;5;124m\"\u001B[39m\u001B[38;5;124mcds-9 css-0 cds-11 cds-grid-item cds-56 cds-64 cds-76 cds-90\u001B[39m\u001B[38;5;124m\"\u001B[39m)\n\u001B[0;32m      8\u001B[0m List \u001B[38;5;241m=\u001B[39m []\n\u001B[0;32m      9\u001B[0m \u001B[38;5;28;01mfor\u001B[39;00m course \u001B[38;5;129;01min\u001B[39;00m courses:\n",
      "File \u001B[1;32m~\\AppData\\Local\\Programs\\Python\\Python313\\Lib\\site-packages\\bs4\\element.py:2433\u001B[0m, in \u001B[0;36mResultSet.__getattr__\u001B[1;34m(self, key)\u001B[0m\n\u001B[0;32m   2431\u001B[0m \u001B[38;5;28;01mdef\u001B[39;00m \u001B[38;5;21m__getattr__\u001B[39m(\u001B[38;5;28mself\u001B[39m, key):\n\u001B[0;32m   2432\u001B[0m \u001B[38;5;250m    \u001B[39m\u001B[38;5;124;03m\"\"\"Raise a helpful exception to explain a common code fix.\"\"\"\u001B[39;00m\n\u001B[1;32m-> 2433\u001B[0m     \u001B[38;5;28;01mraise\u001B[39;00m \u001B[38;5;167;01mAttributeError\u001B[39;00m(\n\u001B[0;32m   2434\u001B[0m         \u001B[38;5;124m\"\u001B[39m\u001B[38;5;124mResultSet object has no attribute \u001B[39m\u001B[38;5;124m'\u001B[39m\u001B[38;5;132;01m%s\u001B[39;00m\u001B[38;5;124m'\u001B[39m\u001B[38;5;124m. You\u001B[39m\u001B[38;5;124m'\u001B[39m\u001B[38;5;124mre probably treating a list of elements like a single element. Did you call find_all() when you meant to call find()?\u001B[39m\u001B[38;5;124m\"\u001B[39m \u001B[38;5;241m%\u001B[39m key\n\u001B[0;32m   2435\u001B[0m     )\n",
      "\u001B[1;31mAttributeError\u001B[0m: ResultSet object has no attribute 'find_all'. You're probably treating a list of elements like a single element. Did you call find_all() when you meant to call find()?"
     ]
    }
   ],
   "execution_count": 29
  }
 ],
 "metadata": {
  "kernelspec": {
   "name": "python3",
   "language": "python",
   "display_name": "Python 3 (ipykernel)"
  }
 },
 "nbformat": 5,
 "nbformat_minor": 9
}
