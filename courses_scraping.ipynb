{
 "cells": [
  {
   "metadata": {},
   "cell_type": "markdown",
   "source": "## Scraping du site Coursera afin de faire des études sur les certifications",
   "id": "becee3ace5106ca0"
  },
  {
   "metadata": {
    "collapsed": true,
    "ExecuteTime": {
     "end_time": "2025-02-01T22:27:58.364295Z",
     "start_time": "2025-02-01T22:27:58.358002Z"
    }
   },
   "cell_type": "code",
   "source": [
    "from bs4 import BeautifulSoup\n",
    "import time\n",
    "from selenium import webdriver\n",
    "import pandas as pd\n",
    "import os\n",
    "import os\n",
    "import os\n",
    "import os"
   ],
   "id": "initial_id",
   "outputs": [],
   "execution_count": 5
  },
  {
   "metadata": {},
   "cell_type": "markdown",
   "source": "###### bibliothèques utilisées",
   "id": "19b3fe8d4dafffc2"
  },
  {
   "metadata": {
    "ExecuteTime": {
     "end_time": "2025-02-01T22:27:58.372457Z",
     "start_time": "2025-02-01T22:27:58.369186Z"
    }
   },
   "cell_type": "code",
   "source": [
    "def scrolling ():\n",
    "    driver = webdriver.Chrome()\n",
    "    search_key = input(\"donner le mot que vous voulez chercher dans Coursera \")\n",
    "    link = f'https://www.coursera.org/search?query={search_key}'\n",
    "    driver.get(link)\n",
    "\n",
    "        # à fixer ces valeurs en prenons en considération la vitesse de chargement des élements de la page\n",
    "\n",
    "    scroll_pause_time = float(input(\"donner le scroll pause time (0.5), tout dépendant de votre connexion et PC\"))  # Time to wait between scrolls\n",
    "    scroll_duration = float(input(\"donner la durée de scroll (20), tout dépendant de votre connexion et PC\"))  # Total scroll duration\n",
    "    scroll_amount = float(input(\"donner le nombre de pixel à scroller (500), tout dépendant de votre connexion et PC\"))  # Pixels to scroll each time\n",
    "\n",
    "\n",
    "    start_time = time.time()\n",
    "    while time.time() - start_time < scroll_duration:\n",
    "        driver.execute_script(f\"window.scrollBy(0, {scroll_amount});\")\n",
    "        time.sleep(scroll_pause_time)\n",
    "\n",
    "        # Get the page source after scrolling\n",
    "    page_source = driver.page_source\n",
    "    #time.sleep(10)\n",
    "    driver.quit()\n",
    "\n",
    "    return page_source"
   ],
   "id": "9fcc3a4bccfbcdd8",
   "outputs": [],
   "execution_count": 6
  },
  {
   "metadata": {},
   "cell_type": "markdown",
   "source": "###### fonction pour faire descendre la page automatiquement et qui retourne en fin le code source HTML de la page",
   "id": "8e1a0bbd4afce683"
  },
  {
   "metadata": {
    "ExecuteTime": {
     "end_time": "2025-02-01T22:28:30.661006Z",
     "start_time": "2025-02-01T22:27:58.454662Z"
    }
   },
   "cell_type": "code",
   "source": [
    "response = scrolling()\n",
    "soup = BeautifulSoup(response, 'lxml')\n",
    "\n",
    "all_courses = []\n",
    "all_names = []\n",
    "all_levels = []\n",
    "all_certif_type = []\n",
    "all_duration = []\n",
    "all_ratings = []\n",
    "all_skills = []"
   ],
   "id": "50d4518c53f1cf0e",
   "outputs": [],
   "execution_count": 7
  },
  {
   "metadata": {
    "ExecuteTime": {
     "end_time": "2025-02-01T22:28:30.727669Z",
     "start_time": "2025-02-01T22:28:30.708950Z"
    }
   },
   "cell_type": "code",
   "source": [
    "outer_div = soup.find_all('ul', class_=\"cds-9 css-5t8l4v cds-10\")\n",
    "for outer_div_1 in outer_div:\n",
    "    inner_div = outer_div_1.find_all('li', class_=\"cds-9 css-0 cds-11 cds-grid-item cds-56 cds-64 cds-76 cds-90\")\n",
    "    for j in inner_div:\n",
    "            #liste des noms des certifs\n",
    "        course_name = j.find('h3', class_ =\"cds-CommonCard-title css-6ecy9b\").text\n",
    "        all_courses.append(course_name)\n",
    "\n",
    "\n",
    "\n",
    "            #nom des sociétés\n",
    "        name = j.find('p', class_=\"cds-ProductCard-partnerNames css-vac8rf\")\n",
    "        if name:\n",
    "            all_names.append(name.text)\n",
    "        else:\n",
    "            all_names.append(\"name not found\")\n",
    "\n",
    "\n",
    "\n",
    "            # information sur le niveau, durée,\n",
    "        levels = j.find('div', class_=\"cds-CommonCard-metadata\")\n",
    "        level = levels.find('p', class_=\"css-vac8rf\")\n",
    "        if level:\n",
    "            # il faut que les informations soient aplaties ou bien dans une liste pour garder une bonne symétrie\n",
    "            level_in_list = [level.text.split('·')[0]]\n",
    "            certif_in_list = [level.text.split('·')[1]]\n",
    "            duration_in_list = [level.text.split('·')[2]]\n",
    "\n",
    "\n",
    "            all_levels.append(level_in_list)\n",
    "            all_certif_type.append(certif_in_list)\n",
    "            all_duration.append(duration_in_list)\n",
    "        else:\n",
    "            all_levels.append(\"no info dispo\")\n",
    "\n",
    "\n",
    "\n",
    "            # Ratings sur la certif\n",
    "        ratings = j.find('div', class_=\"cds-CommonCard-ratings\")\n",
    "        if ratings:\n",
    "            # Locate the nested div with class=\"cds-RatingStat-meter\"\n",
    "            result = ratings.find('div', class_=\"cds-RatingStat-meter\")\n",
    "            if result:\n",
    "                # Extract the aria-valuetext attribute\n",
    "                aria_value_text = result.get('aria-valuetext')\n",
    "                if aria_value_text:\n",
    "                    all_ratings.append(aria_value_text)\n",
    "                else:\n",
    "                        print(\"aria-valuetext attribute not found!\")\n",
    "            else:\n",
    "                print(\"Inner div with class 'cds-RatingStat-meter' not found!\")\n",
    "        else:\n",
    "            print(\"Outer div with class 'cds-CommonCard-ratings' not found!\")\n",
    "\n",
    "\n",
    "            # Skills que la certif guarantit\n",
    "        temp_list = []\n",
    "        result = j.find('div', class_=\"cds-ProductCard-body\")\n",
    "        if result:\n",
    "            h = result.find('div', class_=\"cds-CommonCard-bodyContent\")\n",
    "            skill = h.find('p', class_=\"css-vac8rf\").text.strip()\n",
    "            temp_list.append(skill)\n",
    "            all_skills.append(temp_list[0][32::])\n",
    "        else:\n",
    "            temp_list.append(\"No information given\")\n",
    "            all_skills.append(temp_list)\n"
   ],
   "id": "92030ace49498204",
   "outputs": [
    {
     "name": "stdout",
     "output_type": "stream",
     "text": [
      "aria-valuetext: 4,6 sur 5 étoiles\n",
      "aria-valuetext: 4,7 sur 5 étoiles\n",
      "aria-valuetext: 4,8 sur 5 étoiles\n",
      "aria-valuetext: 4,6 sur 5 étoiles\n",
      "aria-valuetext: 4,7 sur 5 étoiles\n",
      "aria-valuetext: 4,8 sur 5 étoiles\n",
      "aria-valuetext: 4,6 sur 5 étoiles\n",
      "aria-valuetext: 4,6 sur 5 étoiles\n",
      "aria-valuetext: 4,5 sur 5 étoiles\n",
      "aria-valuetext: 4,7 sur 5 étoiles\n",
      "aria-valuetext: 4,6 sur 5 étoiles\n",
      "aria-valuetext: 4,6 sur 5 étoiles\n",
      "aria-valuetext: 4,8 sur 5 étoiles\n",
      "aria-valuetext: 4,6 sur 5 étoiles\n",
      "aria-valuetext: 4,6 sur 5 étoiles\n",
      "aria-valuetext: 4,7 sur 5 étoiles\n",
      "aria-valuetext: 4,7 sur 5 étoiles\n",
      "aria-valuetext: 3,7 sur 5 étoiles\n",
      "aria-valuetext: 4,7 sur 5 étoiles\n",
      "aria-valuetext: 4,6 sur 5 étoiles\n",
      "aria-valuetext: 4,6 sur 5 étoiles\n",
      "aria-valuetext: 4,8 sur 5 étoiles\n",
      "aria-valuetext: 4,7 sur 5 étoiles\n",
      "aria-valuetext: 4,6 sur 5 étoiles\n",
      "aria-valuetext: 4,5 sur 5 étoiles\n",
      "aria-valuetext: 3,7 sur 5 étoiles\n",
      "aria-valuetext: 4,7 sur 5 étoiles\n",
      "Inner div with class 'cds-RatingStat-meter' not found!\n",
      "aria-valuetext: 4,6 sur 5 étoiles\n",
      "aria-valuetext: 4,6 sur 5 étoiles\n",
      "aria-valuetext: 4,6 sur 5 étoiles\n",
      "aria-valuetext: 4,1 sur 5 étoiles\n",
      "aria-valuetext: 4,2 sur 5 étoiles\n",
      "aria-valuetext: 4,7 sur 5 étoiles\n",
      "Inner div with class 'cds-RatingStat-meter' not found!\n",
      "aria-valuetext: 4,3 sur 5 étoiles\n"
     ]
    }
   ],
   "execution_count": 8
  },
  {
   "metadata": {},
   "cell_type": "markdown",
   "source": "###### Scraping et ajout de la data dans des listes à afficher plus tards",
   "id": "cb50d57f197969de"
  },
  {
   "metadata": {
    "ExecuteTime": {
     "end_time": "2025-02-01T22:28:30.808846Z",
     "start_time": "2025-02-01T22:28:30.806015Z"
    }
   },
   "cell_type": "code",
   "source": [
    "min_length = min(len(all_courses),len(all_ratings), len(all_skills), len(all_levels), len(all_certif_type), len(all_duration), len(all_names))\n",
    "all_courses = all_courses [:min_length]\n",
    "all_names =  all_names[:min_length]\n",
    "all_levels = all_levels[:min_length]\n",
    "all_certif_type = all_certif_type[:min_length]\n",
    "all_duration = all_duration[:min_length]\n",
    "all_ratings = all_ratings[:min_length]\n",
    "all_skills = all_skills[:min_length]"
   ],
   "id": "c0249022986facb9",
   "outputs": [],
   "execution_count": 9
  },
  {
   "metadata": {},
   "cell_type": "markdown",
   "source": "###### Making the arrays the same length to have a beautiful table like you and I :)\n",
   "id": "639d469243d2f951"
  },
  {
   "metadata": {
    "ExecuteTime": {
     "end_time": "2025-02-01T22:28:30.971161Z",
     "start_time": "2025-02-01T22:28:30.964914Z"
    }
   },
   "cell_type": "code",
   "source": [
    "file_name = \"table.csv\"\n",
    "if os.path.exists(file_name):\n",
    "    os.remove(file_name)\n",
    "\n",
    "df = pd.DataFrame({\n",
    "    \"Course Name\": all_courses,\n",
    "    \"Certificate Provider\": all_names,\n",
    "    \"Certification Level\": all_levels,\n",
    "    \"Certification Type\": all_certif_type,\n",
    "    \"Duration\": all_duration,\n",
    "    \"Certification Rating\": all_ratings,\n",
    "    \"Skills\": all_skills\n",
    "})"
   ],
   "id": "2f4d69bd3ea4dcc9",
   "outputs": [],
   "execution_count": 10
  },
  {
   "metadata": {},
   "cell_type": "markdown",
   "source": "###### Suppression du fichier s'il existe déjà, afin d'éviter les problèmes de chevauchement.",
   "id": "5677dc44115538e8"
  },
  {
   "metadata": {
    "ExecuteTime": {
     "end_time": "2025-02-01T22:28:30.981484Z",
     "start_time": "2025-02-01T22:28:30.974913Z"
    }
   },
   "cell_type": "code",
   "source": [
    "df.to_csv(file_name, index=False, encoding=\"utf-8\")\n",
    "\n",
    "print(\"dataframe saved successfully :) \")"
   ],
   "id": "bb111fc005de2199",
   "outputs": [
    {
     "name": "stdout",
     "output_type": "stream",
     "text": [
      "dataframe saved successfully :) \n"
     ]
    }
   ],
   "execution_count": 11
  },
  {
   "metadata": {},
   "cell_type": "markdown",
   "source": "###### Sauvegarde de la data en un csv file dans le main dossier",
   "id": "6ee2d7f5e9934b33"
  }
 ],
 "metadata": {
  "kernelspec": {
   "display_name": "Python 3",
   "language": "python",
   "name": "python3"
  },
  "language_info": {
   "codemirror_mode": {
    "name": "ipython",
    "version": 2
   },
   "file_extension": ".py",
   "mimetype": "text/x-python",
   "name": "python",
   "nbconvert_exporter": "python",
   "pygments_lexer": "ipython2",
   "version": "2.7.6"
  }
 },
 "nbformat": 4,
 "nbformat_minor": 5
}
